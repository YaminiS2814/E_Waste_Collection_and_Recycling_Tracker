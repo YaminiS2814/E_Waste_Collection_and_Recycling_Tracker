{
 "cells": [
  {
   "cell_type": "code",
   "execution_count": 1,
   "id": "40d4cadd",
   "metadata": {},
   "outputs": [
    {
     "name": "stdout",
     "output_type": "stream",
     "text": [
      "✅ Cleaning complete! Cleaned files saved in 'E_Waste/Cleaned_Dataset/'\n"
     ]
    }
   ],
   "source": [
    "import pandas as pd\n",
    "import os\n",
    "\n",
    "# Paths\n",
    "RAW_PATH = \"Raw_Dataset/\"\n",
    "CLEAN_PATH = \"Cleaned_Dataset/\"\n",
    "\n",
    "# Ensure Cleaned_Dataset folder exists\n",
    "os.makedirs(CLEAN_PATH, exist_ok=True)\n",
    "\n",
    "# Load CSVs\n",
    "donors = pd.read_csv(os.path.join(RAW_PATH, \"donors.csv\"))\n",
    "collectors = pd.read_csv(os.path.join(RAW_PATH, \"collectors.csv\"))\n",
    "ewaste = pd.read_csv(os.path.join(RAW_PATH, \"ewaste_listings.csv\"))\n",
    "pickup = pd.read_csv(os.path.join(RAW_PATH, \"pickup_requests.csv\"))\n",
    "\n",
    "# ------------------ Donors ------------------\n",
    "donors.drop_duplicates(subset=[\"Donor_ID\"], inplace=True)\n",
    "donors[\"Name\"] = donors[\"Name\"].str.title()\n",
    "donors[\"City\"] = donors[\"City\"].str.title()\n",
    "donors[\"Contact\"] = donors[\"Contact\"].astype(str).str.replace(r\"\\D\", \"\", regex=True).str[:10]\n",
    "\n",
    "# ------------------ Collectors ------------------\n",
    "collectors.drop_duplicates(subset=[\"Collector_ID\"], inplace=True)\n",
    "collectors[\"Name\"] = collectors[\"Name\"].str.title()\n",
    "collectors[\"City\"] = collectors[\"City\"].str.title()\n",
    "collectors[\"Contact\"] = collectors[\"Contact\"].astype(str).str.replace(r\"\\D\", \"\", regex=True).str[:10]\n",
    "\n",
    "# ------------------ Ewaste Listings ------------------\n",
    "ewaste.drop_duplicates(subset=[\"Waste_ID\"], inplace=True)\n",
    "ewaste[\"Created_At\"] = pd.to_datetime(ewaste[\"Created_At\"], errors=\"coerce\")\n",
    "ewaste[\"Expiry_Date\"] = pd.to_datetime(ewaste[\"Expiry_Date\"], errors=\"coerce\")\n",
    "ewaste.dropna(subset=[\"Created_At\", \"Expiry_Date\"], inplace=True)  # ensure valid dates\n",
    "ewaste = ewaste[ewaste[\"Donor_ID\"].isin(donors[\"Donor_ID\"])]  # FK validation\n",
    "\n",
    "# ------------------ Pickup Requests ------------------\n",
    "pickup.drop_duplicates(subset=[\"Request_ID\"], inplace=True)\n",
    "pickup[\"Timestamp\"] = pd.to_datetime(pickup[\"Timestamp\"], errors=\"coerce\")\n",
    "pickup.dropna(subset=[\"Timestamp\"], inplace=True)\n",
    "pickup = pickup[pickup[\"Waste_ID\"].isin(ewaste[\"Waste_ID\"])]  # FK validation\n",
    "pickup = pickup[pickup[\"Collector_ID\"].isin(collectors[\"Collector_ID\"])]  # FK validation\n",
    "\n",
    "# Save cleaned files inside Cleaned_Dataset\n",
    "donors.to_csv(os.path.join(CLEAN_PATH, \"clean_donors.csv\"), index=False)\n",
    "collectors.to_csv(os.path.join(CLEAN_PATH, \"clean_collectors.csv\"), index=False)\n",
    "ewaste.to_csv(os.path.join(CLEAN_PATH, \"clean_ewaste_listings.csv\"), index=False)\n",
    "pickup.to_csv(os.path.join(CLEAN_PATH, \"clean_pickup_requests.csv\"), index=False)\n",
    "\n",
    "print(\"✅ Cleaning complete! Cleaned files saved in 'E_Waste/Cleaned_Dataset/'\")\n"
   ]
  }
 ],
 "metadata": {
  "kernelspec": {
   "display_name": "Python 3",
   "language": "python",
   "name": "python3"
  },
  "language_info": {
   "codemirror_mode": {
    "name": "ipython",
    "version": 3
   },
   "file_extension": ".py",
   "mimetype": "text/x-python",
   "name": "python",
   "nbconvert_exporter": "python",
   "pygments_lexer": "ipython3",
   "version": "3.13.5"
  }
 },
 "nbformat": 4,
 "nbformat_minor": 5
}
